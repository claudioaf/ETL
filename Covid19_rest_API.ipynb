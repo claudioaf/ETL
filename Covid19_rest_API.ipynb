{
  "nbformat": 4,
  "nbformat_minor": 0,
  "metadata": {
    "colab": {
      "name": "Covid19_rest_API.ipynb",
      "provenance": [],
      "authorship_tag": "ABX9TyP0cAPzqYsUKSrp1gbL/Wtd",
      "include_colab_link": true
    },
    "kernelspec": {
      "name": "python3",
      "display_name": "Python 3"
    },
    "language_info": {
      "name": "python"
    }
  },
  "cells": [
    {
      "cell_type": "markdown",
      "metadata": {
        "id": "view-in-github",
        "colab_type": "text"
      },
      "source": [
        "<a href=\"https://colab.research.google.com/github/claudioaf/ETL/blob/main/Covid19_rest_API.ipynb\" target=\"_parent\"><img src=\"https://colab.research.google.com/assets/colab-badge.svg\" alt=\"Open In Colab\"/></a>"
      ]
    },
    {
      "cell_type": "code",
      "metadata": {
        "id": "XiZEQqsj_xkq"
      },
      "source": [
        "#Libs\n",
        "import requests\n",
        "import csv"
      ],
      "execution_count": null,
      "outputs": []
    },
    {
      "cell_type": "code",
      "metadata": {
        "id": "gnq-0JY9_4aR"
      },
      "source": [
        "header = {\"Authorization\": \"Token Your Token\"}\n",
        "url = \"https://api.brasil.io/v1/dataset/covid19/caso/data/\""
      ],
      "execution_count": null,
      "outputs": []
    },
    {
      "cell_type": "code",
      "metadata": {
        "id": "5kIlbJOi_8yT"
      },
      "source": [
        "fname = \"covid.csv\""
      ],
      "execution_count": null,
      "outputs": []
    },
    {
      "cell_type": "code",
      "metadata": {
        "id": "6pvr9BQ8__Fj"
      },
      "source": [
        "request = requests.get(url, headers=header)\n",
        "dados = request.json()"
      ],
      "execution_count": null,
      "outputs": []
    },
    {
      "cell_type": "code",
      "metadata": {
        "id": "Y54cWXA2AA3N"
      },
      "source": [
        "with open(fname, \"w\") as file:\n",
        "    csv_file = csv.writer(file)\n",
        "    csv_file.writerow([\"city\", \"date\", \"confirmed\", \"deaths\"])\n",
        "    for item in dados[\"results\"]:\n",
        "        csv_file.writerow([item['city'], item['date'],\n",
        "                           item['confirmed'], item['deaths']])"
      ],
      "execution_count": null,
      "outputs": []
    }
  ]
}